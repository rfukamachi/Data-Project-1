{
 "cells": [
  {
   "cell_type": "markdown",
   "metadata": {},
   "source": [
    "# Master Measles Epidemic Py\n",
    "----\n",
    "\n",
    "#### Project Description\n",
    "* Numerous media outlets ranging in credibility have reported concerns over the rise of Measles, previously thought contained by herd immunization within the United States population. This project seeks to first validate the reports by media, then investigate the cause of the increased cases, provide additional information regarding the effectiveness of immunization and factors surrounding thespread and prevention of measles.  And finally, provide a recommendation based onthe findings"
   ]
  },
  {
   "cell_type": "code",
   "execution_count": 1,
   "metadata": {
    "scrolled": true
   },
   "outputs": [],
   "source": [
    "# Dependencies and Setup\n",
    "%matplotlib notebook\n",
    "%matplotlib inline\n",
    "import matplotlib.pyplot as plt\n",
    "import pandas as pd\n",
    "import numpy as np\n",
    "import requests\n",
    "import time\n",
    "\n",
    "# # Import API key\n",
    "# from api_keys import api_key\n",
    "\n"
   ]
  },
  {
   "cell_type": "markdown",
   "metadata": {},
   "source": [
    "## Question 1: Is there a rise in measles cases in the US?"
   ]
  },
  {
   "cell_type": "code",
   "execution_count": 2,
   "metadata": {},
   "outputs": [],
   "source": [
    "# Jam's Code Here:\n",
    "\n"
   ]
  },
  {
   "cell_type": "code",
   "execution_count": 3,
   "metadata": {},
   "outputs": [],
   "source": [
    "# Amanda's Code Here:\n",
    "\n"
   ]
  },
  {
   "cell_type": "markdown",
   "metadata": {},
   "source": [
    "## Question 2: How does the immunization rate look like in the US?"
   ]
  },
  {
   "cell_type": "code",
   "execution_count": 4,
   "metadata": {},
   "outputs": [
    {
     "data": {
      "text/html": [
       "<div>\n",
       "<style scoped>\n",
       "    .dataframe tbody tr th:only-of-type {\n",
       "        vertical-align: middle;\n",
       "    }\n",
       "\n",
       "    .dataframe tbody tr th {\n",
       "        vertical-align: top;\n",
       "    }\n",
       "\n",
       "    .dataframe thead th {\n",
       "        text-align: right;\n",
       "    }\n",
       "</style>\n",
       "<table border=\"1\" class=\"dataframe\">\n",
       "  <thead>\n",
       "    <tr style=\"text-align: right;\">\n",
       "      <th></th>\n",
       "      <th>Names</th>\n",
       "      <th>1995</th>\n",
       "      <th>LL</th>\n",
       "      <th>UL</th>\n",
       "      <th>CI</th>\n",
       "      <th>SAMPLE SIZE</th>\n",
       "      <th>TARGET</th>\n",
       "      <th>1996</th>\n",
       "      <th>LL.1</th>\n",
       "      <th>UL.1</th>\n",
       "      <th>...</th>\n",
       "      <th>UL.21</th>\n",
       "      <th>CI.21</th>\n",
       "      <th>SAMPLE SIZE.21</th>\n",
       "      <th>TARGET.21</th>\n",
       "      <th>2017</th>\n",
       "      <th>LL.22</th>\n",
       "      <th>UL.22</th>\n",
       "      <th>CI.22</th>\n",
       "      <th>SAMPLE SIZE.22</th>\n",
       "      <th>TARGET.22</th>\n",
       "    </tr>\n",
       "  </thead>\n",
       "  <tbody>\n",
       "    <tr>\n",
       "      <th>0</th>\n",
       "      <td>Alabama</td>\n",
       "      <td>88.9</td>\n",
       "      <td>83.5</td>\n",
       "      <td>92.7</td>\n",
       "      <td>(±4.5)</td>\n",
       "      <td>419.0</td>\n",
       "      <td>90.0</td>\n",
       "      <td>90.1</td>\n",
       "      <td>85.7</td>\n",
       "      <td>93.3</td>\n",
       "      <td>...</td>\n",
       "      <td>94.8</td>\n",
       "      <td>(±4.8)</td>\n",
       "      <td>249.0</td>\n",
       "      <td>90.0</td>\n",
       "      <td>92.3</td>\n",
       "      <td>87.5</td>\n",
       "      <td>95.4</td>\n",
       "      <td>(±3.8)</td>\n",
       "      <td>295.0</td>\n",
       "      <td>90.0</td>\n",
       "    </tr>\n",
       "    <tr>\n",
       "      <th>1</th>\n",
       "      <td>AL-Jefferson County</td>\n",
       "      <td>93.7</td>\n",
       "      <td>88.7</td>\n",
       "      <td>96.6</td>\n",
       "      <td>(±3.8)</td>\n",
       "      <td>213.0</td>\n",
       "      <td>90.0</td>\n",
       "      <td>92.9</td>\n",
       "      <td>88.5</td>\n",
       "      <td>95.7</td>\n",
       "      <td>...</td>\n",
       "      <td>NaN</td>\n",
       "      <td>NaN</td>\n",
       "      <td>NaN</td>\n",
       "      <td>90.0</td>\n",
       "      <td>NaN</td>\n",
       "      <td>NaN</td>\n",
       "      <td>NaN</td>\n",
       "      <td>NaN</td>\n",
       "      <td>NaN</td>\n",
       "      <td>90.0</td>\n",
       "    </tr>\n",
       "    <tr>\n",
       "      <th>2</th>\n",
       "      <td>AL-Rest of State</td>\n",
       "      <td>88.0</td>\n",
       "      <td>81.6</td>\n",
       "      <td>92.3</td>\n",
       "      <td>(±5.3)</td>\n",
       "      <td>206.0</td>\n",
       "      <td>90.0</td>\n",
       "      <td>89.6</td>\n",
       "      <td>84.3</td>\n",
       "      <td>93.2</td>\n",
       "      <td>...</td>\n",
       "      <td>NaN</td>\n",
       "      <td>NaN</td>\n",
       "      <td>NaN</td>\n",
       "      <td>90.0</td>\n",
       "      <td>NaN</td>\n",
       "      <td>NaN</td>\n",
       "      <td>NaN</td>\n",
       "      <td>NaN</td>\n",
       "      <td>NaN</td>\n",
       "      <td>90.0</td>\n",
       "    </tr>\n",
       "    <tr>\n",
       "      <th>3</th>\n",
       "      <td>Alaska</td>\n",
       "      <td>89.9</td>\n",
       "      <td>84.2</td>\n",
       "      <td>93.7</td>\n",
       "      <td>(±4.7)</td>\n",
       "      <td>195.0</td>\n",
       "      <td>90.0</td>\n",
       "      <td>83.7</td>\n",
       "      <td>78.0</td>\n",
       "      <td>88.1</td>\n",
       "      <td>...</td>\n",
       "      <td>89.8</td>\n",
       "      <td>(±4.8)</td>\n",
       "      <td>288.0</td>\n",
       "      <td>90.0</td>\n",
       "      <td>89.3</td>\n",
       "      <td>84.6</td>\n",
       "      <td>92.7</td>\n",
       "      <td>(±4)</td>\n",
       "      <td>251.0</td>\n",
       "      <td>90.0</td>\n",
       "    </tr>\n",
       "    <tr>\n",
       "      <th>4</th>\n",
       "      <td>Arizona</td>\n",
       "      <td>82.7</td>\n",
       "      <td>77.3</td>\n",
       "      <td>87.1</td>\n",
       "      <td>(±4.8)</td>\n",
       "      <td>374.0</td>\n",
       "      <td>90.0</td>\n",
       "      <td>85.2</td>\n",
       "      <td>81.2</td>\n",
       "      <td>88.4</td>\n",
       "      <td>...</td>\n",
       "      <td>92.3</td>\n",
       "      <td>(±5.7)</td>\n",
       "      <td>230.0</td>\n",
       "      <td>90.0</td>\n",
       "      <td>91.7</td>\n",
       "      <td>87.0</td>\n",
       "      <td>94.8</td>\n",
       "      <td>(±3.9)</td>\n",
       "      <td>265.0</td>\n",
       "      <td>90.0</td>\n",
       "    </tr>\n",
       "  </tbody>\n",
       "</table>\n",
       "<p>5 rows × 157 columns</p>\n",
       "</div>"
      ],
      "text/plain": [
       "                 Names  1995    LL    UL      CI  SAMPLE SIZE  TARGET  1996  \\\n",
       "0              Alabama  88.9  83.5  92.7  (±4.5)        419.0    90.0  90.1   \n",
       "1  AL-Jefferson County  93.7  88.7  96.6  (±3.8)        213.0    90.0  92.9   \n",
       "2     AL-Rest of State  88.0  81.6  92.3  (±5.3)        206.0    90.0  89.6   \n",
       "3               Alaska  89.9  84.2  93.7  (±4.7)        195.0    90.0  83.7   \n",
       "4              Arizona  82.7  77.3  87.1  (±4.8)        374.0    90.0  85.2   \n",
       "\n",
       "   LL.1  UL.1  ... UL.21   CI.21  SAMPLE SIZE.21  TARGET.21  2017  LL.22  \\\n",
       "0  85.7  93.3  ...  94.8  (±4.8)           249.0       90.0  92.3   87.5   \n",
       "1  88.5  95.7  ...   NaN     NaN             NaN       90.0   NaN    NaN   \n",
       "2  84.3  93.2  ...   NaN     NaN             NaN       90.0   NaN    NaN   \n",
       "3  78.0  88.1  ...  89.8  (±4.8)           288.0       90.0  89.3   84.6   \n",
       "4  81.2  88.4  ...  92.3  (±5.7)           230.0       90.0  91.7   87.0   \n",
       "\n",
       "   UL.22   CI.22  SAMPLE SIZE.22  TARGET.22  \n",
       "0   95.4  (±3.8)           295.0       90.0  \n",
       "1    NaN     NaN             NaN       90.0  \n",
       "2    NaN     NaN             NaN       90.0  \n",
       "3   92.7    (±4)           251.0       90.0  \n",
       "4   94.8  (±3.9)           265.0       90.0  \n",
       "\n",
       "[5 rows x 157 columns]"
      ]
     },
     "execution_count": 4,
     "metadata": {},
     "output_type": "execute_result"
    }
   ],
   "source": [
    "###################################################\n",
    "# Rika's Code Here:\n",
    "\n",
    "# Part 1: Data Retrieval and Cleaning:\n",
    "###################################################\n",
    "\n",
    "# File to load:\n",
    "##RF: CHANGE WHEN MOVING TO PRODUCTION:  %^&*%$#%^&%#%^&*^%#%^&**&^%$%^&*(&^%$#%^&*(&^%$#$%^&*&^%$#$%^&*(&^%$#%^&$#%$)))\n",
    "immunization_file = '../Resources/Vaccinations_95-17_Reformatted.xlsx'\n",
    "states_file = '../Resources/states.csv'\n",
    "\n",
    "# Read in the states list:\n",
    "states_df = pd.read_csv(states_file)\n",
    "states_df.head()\n",
    "\n",
    "# Read in the immunization file:\n",
    "raw_imm_df = pd.read_excel(immunization_file)\n",
    "raw_imm_df.head()\n",
    "\n"
   ]
  },
  {
   "cell_type": "code",
   "execution_count": 5,
   "metadata": {
    "scrolled": true
   },
   "outputs": [
    {
     "data": {
      "text/html": [
       "<div>\n",
       "<style scoped>\n",
       "    .dataframe tbody tr th:only-of-type {\n",
       "        vertical-align: middle;\n",
       "    }\n",
       "\n",
       "    .dataframe tbody tr th {\n",
       "        vertical-align: top;\n",
       "    }\n",
       "\n",
       "    .dataframe thead th {\n",
       "        text-align: right;\n",
       "    }\n",
       "</style>\n",
       "<table border=\"1\" class=\"dataframe\">\n",
       "  <thead>\n",
       "    <tr style=\"text-align: right;\">\n",
       "      <th></th>\n",
       "      <th>1995</th>\n",
       "      <th>1996</th>\n",
       "      <th>1997</th>\n",
       "      <th>1998</th>\n",
       "      <th>1999</th>\n",
       "      <th>2000</th>\n",
       "      <th>2001</th>\n",
       "      <th>2002</th>\n",
       "      <th>2003</th>\n",
       "      <th>2004</th>\n",
       "      <th>...</th>\n",
       "      <th>2008</th>\n",
       "      <th>2009</th>\n",
       "      <th>2010</th>\n",
       "      <th>2011</th>\n",
       "      <th>2012</th>\n",
       "      <th>2013</th>\n",
       "      <th>2014</th>\n",
       "      <th>2015</th>\n",
       "      <th>2016</th>\n",
       "      <th>2017</th>\n",
       "    </tr>\n",
       "    <tr>\n",
       "      <th>Names</th>\n",
       "      <th></th>\n",
       "      <th></th>\n",
       "      <th></th>\n",
       "      <th></th>\n",
       "      <th></th>\n",
       "      <th></th>\n",
       "      <th></th>\n",
       "      <th></th>\n",
       "      <th></th>\n",
       "      <th></th>\n",
       "      <th></th>\n",
       "      <th></th>\n",
       "      <th></th>\n",
       "      <th></th>\n",
       "      <th></th>\n",
       "      <th></th>\n",
       "      <th></th>\n",
       "      <th></th>\n",
       "      <th></th>\n",
       "      <th></th>\n",
       "      <th></th>\n",
       "    </tr>\n",
       "  </thead>\n",
       "  <tbody>\n",
       "    <tr>\n",
       "      <th>Alabama</th>\n",
       "      <td>88.9</td>\n",
       "      <td>90.1</td>\n",
       "      <td>93.7</td>\n",
       "      <td>95.1</td>\n",
       "      <td>89.3</td>\n",
       "      <td>86.8</td>\n",
       "      <td>94.3</td>\n",
       "      <td>91.6</td>\n",
       "      <td>91.2</td>\n",
       "      <td>91.8</td>\n",
       "      <td>...</td>\n",
       "      <td>93.6</td>\n",
       "      <td>95.4</td>\n",
       "      <td>95.4</td>\n",
       "      <td>94.0</td>\n",
       "      <td>93.1</td>\n",
       "      <td>89.7</td>\n",
       "      <td>92.0</td>\n",
       "      <td>95.2</td>\n",
       "      <td>91.1</td>\n",
       "      <td>92.3</td>\n",
       "    </tr>\n",
       "    <tr>\n",
       "      <th>Alaska</th>\n",
       "      <td>89.9</td>\n",
       "      <td>83.7</td>\n",
       "      <td>86.8</td>\n",
       "      <td>89.7</td>\n",
       "      <td>90.9</td>\n",
       "      <td>87.9</td>\n",
       "      <td>87.8</td>\n",
       "      <td>88.7</td>\n",
       "      <td>90.7</td>\n",
       "      <td>89.7</td>\n",
       "      <td>...</td>\n",
       "      <td>88.4</td>\n",
       "      <td>85.2</td>\n",
       "      <td>88.4</td>\n",
       "      <td>90.8</td>\n",
       "      <td>86.2</td>\n",
       "      <td>90.5</td>\n",
       "      <td>90.2</td>\n",
       "      <td>89.7</td>\n",
       "      <td>85.6</td>\n",
       "      <td>89.3</td>\n",
       "    </tr>\n",
       "    <tr>\n",
       "      <th>Arizona</th>\n",
       "      <td>82.7</td>\n",
       "      <td>85.2</td>\n",
       "      <td>88.0</td>\n",
       "      <td>87.7</td>\n",
       "      <td>87.1</td>\n",
       "      <td>88.1</td>\n",
       "      <td>88.8</td>\n",
       "      <td>88.9</td>\n",
       "      <td>91.5</td>\n",
       "      <td>92.9</td>\n",
       "      <td>...</td>\n",
       "      <td>92.2</td>\n",
       "      <td>90.8</td>\n",
       "      <td>87.7</td>\n",
       "      <td>86.7</td>\n",
       "      <td>88.3</td>\n",
       "      <td>91.4</td>\n",
       "      <td>84.1</td>\n",
       "      <td>90.6</td>\n",
       "      <td>87.7</td>\n",
       "      <td>91.7</td>\n",
       "    </tr>\n",
       "    <tr>\n",
       "      <th>Arkansas</th>\n",
       "      <td>90.8</td>\n",
       "      <td>85.3</td>\n",
       "      <td>92.2</td>\n",
       "      <td>87.6</td>\n",
       "      <td>85.1</td>\n",
       "      <td>88.0</td>\n",
       "      <td>89.1</td>\n",
       "      <td>92.8</td>\n",
       "      <td>90.6</td>\n",
       "      <td>94.6</td>\n",
       "      <td>...</td>\n",
       "      <td>92.2</td>\n",
       "      <td>81.8</td>\n",
       "      <td>90.5</td>\n",
       "      <td>93.7</td>\n",
       "      <td>92.3</td>\n",
       "      <td>88.3</td>\n",
       "      <td>89.1</td>\n",
       "      <td>90.2</td>\n",
       "      <td>92.1</td>\n",
       "      <td>92.6</td>\n",
       "    </tr>\n",
       "    <tr>\n",
       "      <th>California</th>\n",
       "      <td>90.2</td>\n",
       "      <td>90.5</td>\n",
       "      <td>88.4</td>\n",
       "      <td>91.0</td>\n",
       "      <td>91.8</td>\n",
       "      <td>89.4</td>\n",
       "      <td>90.8</td>\n",
       "      <td>90.4</td>\n",
       "      <td>92.8</td>\n",
       "      <td>93.1</td>\n",
       "      <td>...</td>\n",
       "      <td>92.7</td>\n",
       "      <td>89.8</td>\n",
       "      <td>91.4</td>\n",
       "      <td>91.0</td>\n",
       "      <td>91.5</td>\n",
       "      <td>90.7</td>\n",
       "      <td>90.5</td>\n",
       "      <td>92.8</td>\n",
       "      <td>89.3</td>\n",
       "      <td>92.9</td>\n",
       "    </tr>\n",
       "  </tbody>\n",
       "</table>\n",
       "<p>5 rows × 23 columns</p>\n",
       "</div>"
      ],
      "text/plain": [
       "            1995  1996  1997  1998  1999  2000  2001  2002  2003  2004  ...  \\\n",
       "Names                                                                   ...   \n",
       "Alabama     88.9  90.1  93.7  95.1  89.3  86.8  94.3  91.6  91.2  91.8  ...   \n",
       "Alaska      89.9  83.7  86.8  89.7  90.9  87.9  87.8  88.7  90.7  89.7  ...   \n",
       "Arizona     82.7  85.2  88.0  87.7  87.1  88.1  88.8  88.9  91.5  92.9  ...   \n",
       "Arkansas    90.8  85.3  92.2  87.6  85.1  88.0  89.1  92.8  90.6  94.6  ...   \n",
       "California  90.2  90.5  88.4  91.0  91.8  89.4  90.8  90.4  92.8  93.1  ...   \n",
       "\n",
       "            2008  2009  2010  2011  2012  2013  2014  2015  2016  2017  \n",
       "Names                                                                   \n",
       "Alabama     93.6  95.4  95.4  94.0  93.1  89.7  92.0  95.2  91.1  92.3  \n",
       "Alaska      88.4  85.2  88.4  90.8  86.2  90.5  90.2  89.7  85.6  89.3  \n",
       "Arizona     92.2  90.8  87.7  86.7  88.3  91.4  84.1  90.6  87.7  91.7  \n",
       "Arkansas    92.2  81.8  90.5  93.7  92.3  88.3  89.1  90.2  92.1  92.6  \n",
       "California  92.7  89.8  91.4  91.0  91.5  90.7  90.5  92.8  89.3  92.9  \n",
       "\n",
       "[5 rows x 23 columns]"
      ]
     },
     "execution_count": 5,
     "metadata": {},
     "output_type": "execute_result"
    }
   ],
   "source": [
    "# Pull only necessary columns:\n",
    "condensed_imm_df = raw_imm_df[['Names', '1995', '1996', '1997', '1998', '1999', '2000', '2001', '2002', '2003', '2004',\n",
    "                             '2005', '2006', '2007', '2008', '2009', '2010', '2011', '2012', '2013', '2014',\n",
    "                             '2015', '2016', '2017']]\n",
    "condensed_imm_df.head()\n",
    "\n",
    "# Reset index to prep for the state row retrieval:\n",
    "i_condensed_imm_df = condensed_imm_df.set_index('Names')\n",
    "i_condensed_imm_df\n",
    "\n",
    "# Retrieve only rows with states (not counties)\n",
    "imm_df = i_condensed_imm_df.loc[states_df['State'], :]\n",
    "\n",
    "# Verify all columns have data:\n",
    "imm_df.count()\n",
    "\n",
    "# Validate work:\n",
    "# imm_df\n",
    "imm_df.head()\n"
   ]
  },
  {
   "cell_type": "code",
   "execution_count": 123,
   "metadata": {
    "scrolled": false
   },
   "outputs": [
    {
     "data": {
      "image/png": "[encoded data removed]",
      "text/plain": [
       "<Figure size 432x288 with 1 Axes>"
      ]
     },
     "metadata": {
      "needs_background": "light"
     },
     "output_type": "display_data"
    }
   ],
   "source": [
    "###################################################\n",
    "# PERCENTAGE OF IMMUNIZATION IN THE US:\n",
    "###################################################\n",
    "# Line graph with the total vaccinated as the y axis; the years as the x axis\n",
    "\n",
    "\n",
    "# Create a separate dataframe for US as a country: \n",
    "usa_imm = i_condensed_imm_df.loc['United States', :]\n",
    "usa_imm.head()\n",
    "\n",
    "# Define the x axis:\n",
    "imm_x_axis = np.arange(1995, 2020, 1)\n",
    "\n",
    "# Line Graph of the US immunization rate as a country from the CDC:\n",
    "CDC_USA_IMMUNIZATIONS = usa_imm.plot(x = imm_x_axis)\n",
    "CDC_USA_IMMUNIZATIONS.set_xlabel(\"Year\")\n",
    "CDC_USA_IMMUNIZATIONS.set_ylabel(\"Immunization %\")\n",
    "CDC_USA_IMMUNIZATIONS.set_title(\"Percentage of Immunized US residents\")\n",
    "CDC_USA_IMMUNIZATIONS.legend()\n",
    "CDC_USA_IMMUNIZATIONS.grid()\n",
    "plt.savefig('../Output/CDC_USA_Immunizations.png')\n"
   ]
  },
  {
   "cell_type": "code",
   "execution_count": 76,
   "metadata": {},
   "outputs": [
    {
     "data": {
      "text/plain": [
       "<Figure size 432x288 with 0 Axes>"
      ]
     },
     "metadata": {},
     "output_type": "display_data"
    }
   ],
   "source": [
    "###################################################\n",
    "# PERCENTAGE OF IMMUNIZATION IN THE US - PER STATE\n",
    "###################################################\n",
    "\n",
    "# imm_yrs = ['1995', '1996', '1997', '1998', '1999', '2000', '2001', '2002', '2003', '2004',\n",
    "#            '2005', '2006', '2007', '2008', '2009', '2010', '2011', '2012', '2013', '2014',\n",
    "#            '2015', '2016', '2017']\n",
    "\n",
    "# TOP 10 MEASLES OUTBREAK STATES:\n",
    "NY_IMM = imm_df.loc['New York']\n",
    "CA_IMM = imm_df.loc['California']\n",
    "WA_IMM = imm_df.loc['Washington']\n",
    "AZ_IMM = imm_df.loc['Arizona']\n",
    "IL_IMM = imm_df.loc['Illinois']\n",
    "\n",
    "MN_IMM = imm_df.loc['Minnesota']\n",
    "UT_IMM = imm_df.loc['Utah']\n",
    "NC_IMM = imm_df.loc['North Carolina']\n",
    "TX_IMM = imm_df.loc['Texas']\n",
    "OH_IMM = imm_df.loc['Ohio']\n",
    "\n",
    "# CURIOUS:\n",
    "HI_IMM = imm_df.loc['Hawaii']\n",
    "DC_IMM = imm_df.loc['District of Columbia']\n",
    "DE_IMM = imm_df.loc['Delaware']\n",
    "NJ_IMM = imm_df.loc['New Jersey']\n",
    "TN_IMM = imm_df.loc['Tennessee']\n",
    "\n",
    "\n",
    "###################################################\n",
    "# fqn to build the line charts per state:\n",
    "###################################################\n",
    "def PrettyPicture(state_df, state_name):  \n",
    "    state_plot = state_df.plot()\n",
    "    state_plot.set_xlabel(\"Year\")\n",
    "    state_plot.set_ylabel(\"Immunization %\")\n",
    "    state_plot.set_title(f\"Percentage of Immunization in {state_name}\")\n",
    "    state_plot.legend(loc = 'best')\n",
    "    state_plot.grid()\n",
    "    plt.savefig(f\"../Output/CDC_{state_name}_Immunization.png\")\n",
    "    plt.clf()\n",
    "\n",
    "PrettyPicture(NY_IMM, 'New York')\n",
    "PrettyPicture(CA_IMM, 'California')\n",
    "PrettyPicture(WA_IMM, 'Washington')\n",
    "PrettyPicture(AZ_IMM, 'Arizona')\n",
    "PrettyPicture(IL_IMM, 'Illinois')\n",
    "\n",
    "PrettyPicture(MN_IMM, 'Minnesota')\n",
    "PrettyPicture(UT_IMM, 'Utah')\n",
    "PrettyPicture(NC_IMM, 'North Carolina')\n",
    "PrettyPicture(TX_IMM, 'Texas')\n",
    "PrettyPicture(OH_IMM, 'Ohio')\n",
    "\n",
    "# CURIOUS:\n",
    "PrettyPicture(HI_IMM, 'Hawaii')\n",
    "PrettyPicture(DC_IMM, 'District of Columbia')\n",
    "PrettyPicture(DE_IMM, 'Delaware')\n",
    "PrettyPicture(NJ_IMM, 'New Jersey')\n",
    "PrettyPicture(TN_IMM, 'Tennessee')\n",
    "\n"
   ]
  },
  {
   "cell_type": "code",
   "execution_count": 122,
   "metadata": {},
   "outputs": [
    {
     "data": {
      "text/plain": [
       "<Figure size 432x288 with 0 Axes>"
      ]
     },
     "metadata": {},
     "output_type": "display_data"
    },
    {
     "data": {
      "text/plain": [
       "<Figure size 432x288 with 0 Axes>"
      ]
     },
     "metadata": {},
     "output_type": "display_data"
    },
    {
     "data": {
      "text/plain": [
       "<Figure size 432x288 with 0 Axes>"
      ]
     },
     "metadata": {},
     "output_type": "display_data"
    },
    {
     "data": {
      "text/plain": [
       "<Figure size 432x288 with 0 Axes>"
      ]
     },
     "metadata": {},
     "output_type": "display_data"
    },
    {
     "data": {
      "text/plain": [
       "<Figure size 432x288 with 0 Axes>"
      ]
     },
     "metadata": {},
     "output_type": "display_data"
    },
    {
     "data": {
      "text/plain": [
       "<Figure size 432x288 with 0 Axes>"
      ]
     },
     "metadata": {},
     "output_type": "display_data"
    }
   ],
   "source": [
    "# Bar graph with the total vaccinated as the y axis; the states as the x axis - 1 chart per year (?)\n",
    "\n",
    "\n",
    "###################################################\n",
    "# Top 5 States with Measles Outbreaks\n",
    "###################################################\n",
    "\n",
    "# 2017:\n",
    "reset_imm_df = imm_df.reset_index()\n",
    "reset_imm_df\n",
    "\n",
    "\n",
    "###################################################\n",
    "# fqn to build bar charts for different years:\n",
    "###################################################\n",
    "def BarChartMaker(top5_df, year):\n",
    "    TOP5_IMM = top5_df.loc[(top5_df['Names']=='New York') | (top5_df['Names']=='California') |\n",
    "                           (top5_df['Names']=='Washington') | (top5_df['Names']=='Arizona') |\n",
    "                           (top5_df['Names']=='Illinois')\n",
    "                           , ('Names', year)]\n",
    "\n",
    "    Top5_imm_barchart = TOP5_IMM.plot(kind = 'bar', title = 'Immunization % for Top 5 States with Measles')\n",
    "    Top5_imm_barchart.set_xticklabels(TOP5_IMM['Names'], rotation = 45)\n",
    "    Top5_imm_barchart.set_xlabel('States')\n",
    "    Top5_imm_barchart.set_ylabel('Immunization %')\n",
    "    Top5_imm_barchart.set_ylim(80, 100)\n",
    "    Top5_imm_barchart.yaxis.grid()\n",
    "    plt.savefig(f\"../Output/CDC_Top5_Immunization_{year}.png\")\n",
    "    plt.clf()\n",
    "\n",
    "BarChartMaker(reset_imm_df, '2017')   \n",
    "BarChartMaker(reset_imm_df, '2016')\n",
    "BarChartMaker(reset_imm_df, '2015')\n",
    "BarChartMaker(reset_imm_df, '2014')\n",
    "BarChartMaker(reset_imm_df, '2010')\n",
    "BarChartMaker(reset_imm_df, '1997')\n"
   ]
  },
  {
   "cell_type": "markdown",
   "metadata": {},
   "source": [
    "## Question 3: Is there a rise in measles cases in the rest of the World?"
   ]
  },
  {
   "cell_type": "code",
   "execution_count": 12,
   "metadata": {},
   "outputs": [],
   "source": [
    "#Chinedu's Code Here:\n",
    "\n"
   ]
  },
  {
   "cell_type": "markdown",
   "metadata": {},
   "source": [
    "#### Total Measles Cases over the years 20xx - 2019 in the US"
   ]
  },
  {
   "cell_type": "code",
   "execution_count": 13,
   "metadata": {},
   "outputs": [],
   "source": [
    "# Line graph with the total cases as the y axis; the years as the x axis\n",
    "\n"
   ]
  },
  {
   "cell_type": "markdown",
   "metadata": {},
   "source": [
    "#### Total Measles Cases per State for year 20xx (?) in the US"
   ]
  },
  {
   "cell_type": "code",
   "execution_count": 14,
   "metadata": {},
   "outputs": [],
   "source": [
    "# Bar graph with the total cases as the y axis; the states as the x axis - 1 chart per year (?)\n",
    "\n"
   ]
  },
  {
   "cell_type": "markdown",
   "metadata": {},
   "source": [
    "#### Total Vaccinated over the years 1995 - 2017 in the US"
   ]
  },
  {
   "cell_type": "code",
   "execution_count": 15,
   "metadata": {},
   "outputs": [],
   "source": [
    "# Line graph with the total vaccinated as the y axis; the years as the x axis\n",
    "\n"
   ]
  },
  {
   "cell_type": "markdown",
   "metadata": {},
   "source": [
    "#### Total Vaccinated per State for year 20xx (?) in the US"
   ]
  },
  {
   "cell_type": "code",
   "execution_count": 16,
   "metadata": {},
   "outputs": [],
   "source": [
    "# Bar graph with the total vaccinated as the y axis; the states as the x axis - 1 chart per year (?)\n",
    "\n"
   ]
  },
  {
   "cell_type": "markdown",
   "metadata": {},
   "source": [
    "#### Total Measles Cases over the years 20xx - 2019 in the WORLD outside of US"
   ]
  },
  {
   "cell_type": "code",
   "execution_count": 17,
   "metadata": {},
   "outputs": [],
   "source": [
    "# Line graph with the total cases from ALL COUNTRIES except USA as the y axis; the years as the x axis\n",
    "\n"
   ]
  },
  {
   "cell_type": "markdown",
   "metadata": {},
   "source": [
    "#### Total Measles Cases per Top 5 Countries for year 20xx (?) "
   ]
  },
  {
   "cell_type": "code",
   "execution_count": 18,
   "metadata": {},
   "outputs": [],
   "source": [
    "# Bar graph with the total cases from the TOP 5 COUNTRIES as the y axis; \n",
    "# the TOP 5 COUNTRIES as the x axis - 1 chart per year (?)\n"
   ]
  },
  {
   "cell_type": "markdown",
   "metadata": {},
   "source": [
    "### If we have time: \n",
    "### 1. heat map of all measles cases in the WORLD\n",
    "### 2. scatter chart of measles cases vs vaccinated people - to check for correlation between them"
   ]
  },
  {
   "cell_type": "code",
   "execution_count": null,
   "metadata": {},
   "outputs": [],
   "source": []
  },
  {
   "cell_type": "code",
   "execution_count": null,
   "metadata": {},
   "outputs": [],
   "source": []
  }
 ],
 "metadata": {
  "anaconda-cloud": {},
  "kernel_info": {
   "name": "python3"
  },
  "kernelspec": {
   "display_name": "Python [conda env:PythonData] *",
   "language": "python",
   "name": "conda-env-PythonData-py"
  },
  "language_info": {
   "codemirror_mode": {
    "name": "ipython",
    "version": 3
   },
   "file_extension": ".py",
   "mimetype": "text/x-python",
   "name": "python",
   "nbconvert_exporter": "python",
   "pygments_lexer": "ipython3",
   "version": "3.7.3"
  },
  "nteract": {
   "version": "0.12.3"
  }
 },
 "nbformat": 4,
 "nbformat_minor": 2
}
